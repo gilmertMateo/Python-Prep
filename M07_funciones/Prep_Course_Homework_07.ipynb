{
 "cells": [
  {
   "attachments": {},
   "cell_type": "markdown",
   "metadata": {},
   "source": [
    "## Funciones"
   ]
  },
  {
   "attachments": {},
   "cell_type": "markdown",
   "metadata": {},
   "source": [
    "1) Crear una función que reciba un número como parámetro y devuelva True si es primo y False si no lo es"
   ]
  },
  {
   "cell_type": "code",
   "execution_count": 6,
   "metadata": {},
   "outputs": [
    {
     "name": "stdout",
     "output_type": "stream",
     "text": [
      "True\n"
     ]
    }
   ],
   "source": [
    "def verificar_primo (n):\n",
    "    for i in range(2,n):\n",
    "        if n%i == 0:\n",
    "            return False\n",
    "    return True\n",
    "\n",
    "print(verificar_primo(23))"
   ]
  },
  {
   "attachments": {},
   "cell_type": "markdown",
   "metadata": {},
   "source": [
    "2) Utilizando la función del punto 1, realizar otra función que reciba de parámetro una lista de números y devuelva sólo aquellos que son primos en otra lista"
   ]
  },
  {
   "cell_type": "code",
   "execution_count": 9,
   "metadata": {},
   "outputs": [
    {
     "name": "stdout",
     "output_type": "stream",
     "text": [
      "[11, 23]\n"
     ]
    }
   ],
   "source": [
    "def obtener_primo (lista):\n",
    "    lis = [x for x in lista if verificar_primo(x)]\n",
    "    return lis\n",
    "\n",
    "print(obtener_primo([10,11,20,23,30]))"
   ]
  },
  {
   "attachments": {},
   "cell_type": "markdown",
   "metadata": {},
   "source": [
    "3) Crear una función que al recibir una lista de números, devuelva el que más se repite y cuántas veces lo hace. Si hay más de un \"más repetido\", que devuelva cualquiera"
   ]
  },
  {
   "cell_type": "code",
   "execution_count": 14,
   "metadata": {},
   "outputs": [
    {
     "name": "stdout",
     "output_type": "stream",
     "text": [
      "30 3\n"
     ]
    }
   ],
   "source": [
    "def obtener_moda (lista):\n",
    "    contador = 1;\n",
    "    l_cant = []\n",
    "    for n in lista:\n",
    "        cant = lista.count(n)\n",
    "        l_cant.append(cant)\n",
    "        contador = cant if cant > contador else contador\n",
    "    return lista[l_cant.index(contador)], contador\n",
    "\n",
    "p,q = obtener_moda([10,20,20,30,30,30,40,50,50,50])\n",
    "print(p,q)\n"
   ]
  },
  {
   "attachments": {},
   "cell_type": "markdown",
   "metadata": {},
   "source": [
    "4) Crear una función que convierta entre grados Celsius, Farenheit y Kelvin<br>\n",
    "Fórmula 1\t: (°C × 9/5) + 32 = °F<br>\n",
    "Fórmula 2\t: °C + 273.15 = °K<br>\n",
    "Debe recibir 3 parámetros: el valor, la medida de orígen y la medida de destino\n"
   ]
  },
  {
   "cell_type": "code",
   "execution_count": 19,
   "metadata": {},
   "outputs": [
    {
     "name": "stdout",
     "output_type": "stream",
     "text": [
      "0\n"
     ]
    }
   ],
   "source": [
    "def convert_temperature (valor, origen, destino):\n",
    "    if origen == 'C':\n",
    "        if destino == 'F':\n",
    "            return valor*9/5+32\n",
    "        if destino == 'K':\n",
    "            return valor+273.15\n",
    "    if origen == 'F':\n",
    "        return 1\n",
    "    return 0\n",
    "print(convert_temperature(10,'K','K'))\n"
   ]
  },
  {
   "attachments": {},
   "cell_type": "markdown",
   "metadata": {},
   "source": [
    "5) Iterando una lista con los tres valores posibles de temperatura que recibe la función del punto 5, hacer un print para cada combinación de los mismos:"
   ]
  },
  {
   "cell_type": "code",
   "execution_count": 20,
   "metadata": {},
   "outputs": [
    {
     "name": "stdout",
     "output_type": "stream",
     "text": [
      "De C a F\n",
      "De C a K\n",
      "De F a C\n",
      "De F a K\n",
      "De K a C\n",
      "De K a F\n"
     ]
    }
   ],
   "source": [
    "ls = ['C','F','K']\n",
    "for i,m in enumerate(ls):\n",
    "    for k,p in enumerate(ls):\n",
    "        if i!= k:\n",
    "            print('De', m, 'a', p )"
   ]
  },
  {
   "attachments": {},
   "cell_type": "markdown",
   "metadata": {},
   "source": [
    "6) Armar una función que devuelva el factorial de un número. Tener en cuenta que el usuario puede equivocarse y enviar de parámetro un número no entero o negativo"
   ]
  },
  {
   "cell_type": "code",
   "execution_count": 40,
   "metadata": {},
   "outputs": [],
   "source": [
    "def factorial (n):\n",
    "    if (type(n) != int) or (n<0):\n",
    "        return -1\n",
    "    if n==0:\n",
    "        return 1\n",
    "    fc = 1\n",
    "    for i in range(n):\n",
    "        fc*=i+1\n",
    "    return fc\n",
    "\n",
    "xy = factorial(10)\n",
    "\n"
   ]
  }
 ],
 "metadata": {
  "interpreter": {
   "hash": "c85384e4cb51c8b72350f3a8712cc8351fdc3955e32a27f9b60c6242ab125f01"
  },
  "kernelspec": {
   "display_name": "Python 3 (ipykernel)",
   "language": "python",
   "name": "python3"
  },
  "language_info": {
   "codemirror_mode": {
    "name": "ipython",
    "version": 3
   },
   "file_extension": ".py",
   "mimetype": "text/x-python",
   "name": "python",
   "nbconvert_exporter": "python",
   "pygments_lexer": "ipython3",
   "version": "3.11.1"
  }
 },
 "nbformat": 4,
 "nbformat_minor": 4
}
